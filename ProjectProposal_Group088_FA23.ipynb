{
 "cells": [
  {
   "cell_type": "markdown",
   "metadata": {},
   "source": [
    "# COGS 108 - Project Proposal"
   ]
  },
  {
   "cell_type": "markdown",
   "metadata": {},
   "source": [
    "# Names\n",
    "\n",
    "- Xueyan Shi\n",
    "- Leni Dai\n",
    "- Sungwook Min\n",
    "- Yang Yu\n",
    "- Ahmad Rakha"
   ]
  },
  {
   "cell_type": "markdown",
   "metadata": {},
   "source": [
    "# Research Question"
   ]
  },
  {
   "cell_type": "markdown",
   "metadata": {},
   "source": [
    "How do variations in weather conditions affect the patterns of vehicle traffic flow into and out of the University of California, San Diego (UCSD) campus, and can we predict traffic volume based on weather data?\n",
    "\n"
   ]
  },
  {
   "cell_type": "markdown",
   "metadata": {},
   "source": [
    "## Background and Prior Work"
   ]
  },
  {
   "cell_type": "markdown",
   "metadata": {},
   "source": [
    "\n",
    "UCSD campus experiences a wide range of weather conditions throughout the year, including variations in temperature, precipitation, and visibility. Understanding how these variations affect the patterns of vehicle traffic flow into and out of the UCSD campus is essential for efficient traffic management and planning. Additionally, the ability to predict traffic volume based on weather data can provide valuable insights for campus authorities to proactively manage traffic during adverse weather conditions. This research seeks to investigate the relationship between weather conditions and traffic flow patterns at UCSD and explore the feasibility of predicting traffic volume using weather data.\n",
    "\n",
    "While there is a general understanding of how weather conditions can influence traffic flow, limited research has specifically addressed the impact of weather on traffic patterns at the UCSD campus. However, existing studies on weather-traffic relationships in urban areas and on university campuses can provide valuable insights. One relevant study by Xie et al. (2017) titled \"Effects of Rainfall on Urban Traffic Flow: Spatiotemporal Analysis and Flow Simulation\" examines the impact of rainfall on traffic flow in urban areas. The researchers found that heavy rainfall significantly reduces traffic speed and increases congestion. While this study focuses on urban settings, it highlights the potential effects of precipitation on traffic, which can be relevant to the UCSD campus during rainy periods</a>[<sup>1</sup>](#cite_note-1).\n",
    "\n",
    "Furthermore, a study by Zhang et al. (2018) titled \"A Comprehensive Analysis of Weather-Related Crashes in Texas\" investigates the relationship between weather conditions and traffic crashes. Although the focus is on crash analysis, this study emphasizes the importance of considering weather-related factors when studying traffic patterns. Adverse weather conditions such as rain, fog, and snow are shown to increase the risk of accidents, which can impact traffic flow</a>[<sup>2</sup>](#cite_note-2) . These studies, while not specific to the UCSD campus, underscore the significance of weather conditions in influencing traffic flow and safety. Our research will build upon these insights by collecting and analyzing weather and traffic data specific to UCSD to understand how variations in weather conditions affect traffic patterns and whether predictive models can be developed to estimate traffic volume based on weather data in this particular campus setting.\n",
    "\n",
    "References:\n",
    "\n",
    "1. <a name=\"cite_note-1\"></a> [^](#cite_ref-1) Xie, W., Zhang, X., Li, X., & Ma, Y. (2017). Effects of Rainfall on Urban Traffic Flow: Spatiotemporal Analysis and Flow Simulation. Journal of Advanced Transportation, 2017, 1-12. doi:10.1155/2017/2160369.\n",
    "\n",
    "2. <a name=\"cite_note-2\"></a> [^](#cite_ref-2) Zhang, Y., Liu, P., & Guo, W. (2018). A Comprehensive Analysis of Weather-Related Crashes in Texas. Sustainability, 10(7), 2352. doi:10.3390/su10072352."
   ]
  },
  {
   "cell_type": "markdown",
   "metadata": {},
   "source": [
    "# Hypothesis\n"
   ]
  },
  {
   "cell_type": "markdown",
   "metadata": {},
   "source": [
    "We expect that in abnormal weather conditions (rainy, foggy, etc.), the traffic flow into and out of the campus would decrease as more students would opt to stay home due to safety concerns or use public transportation instead. On the contrary, we expect that in ideal weather conditions (sunny, lukewarm, etc.) traffic flow to UCSD would increase as more students would opt for personal vehicles. "
   ]
  },
  {
   "cell_type": "markdown",
   "metadata": {},
   "source": [
    "# Data"
   ]
  },
  {
   "cell_type": "markdown",
   "metadata": {},
   "source": [
    "1. Explain what the **ideal** dataset you would want to answer this question. (This should include: What variables? How many observations? Who/what/how would these data be collected? How would these data be stored/organized?)\n",
    "1. Search for potential **real** datasets that could provide you with something useful for this project.  You do not have to find every piece of data you will use, but you do need to have demonstrated some idea that (a) this data is gettable and (b) that this data may be different from what your ideal is\n",
    "## Ideal Dataset\n",
    "Ideally, we want to observe the traffic to and from UCSD, with its relationship with weather conditions. If we could have a dataset that logs the exact time a vehicle pull in/out from a parking structure, along with the precise weather condition on campus, that would be perfect.\n",
    "### Variables:\n",
    "- Timestamp of vehicle\n",
    "- Boolean value of in/out\n",
    "- Temperature\n",
    "- Weather type\n",
    "### Observations:\n",
    "One or two years of observations for everyday of the entire 3 quarters should cover most weather/temperature conditions.\n",
    "### Who/What/How:\n",
    "- ITS or other teams on campus should have the data.\n",
    "- There are sensors in every parking lot, so the data must be stored somewhere...\n",
    "## Potential Datasets\n",
    "Reality is not that nice. Turns out UCSD does not have a weather station itself, and parking data is also hard to excavate without permissions. We have to find alternatives. For weather, we have the weather data from San Diego International Airport, collected by [NOAA](https://www.noaa.gov/) (National Oceanic and Atmospheric Administration). We've proved that this data can be accessed through free ordering, and [here](Weather.csv) is a weather dataset we downloaded.\n",
    "\n",
    "For traffic dataset, we found a public dataset of traffic counts from [Data.SanDiego.gov](https://data.sandiego.gov/). There is a traffic count dataset which counts the volume of vehicles on a given day. We have downloaded it, which can be found [here](Traffic.csv).\n",
    "\n",
    "### NOAA Weather Dataset\n",
    "#### Variables:\n",
    "- Time by dates\n",
    "- Precipitation (`PRCP`)\n",
    "- Temperature\n",
    "    - Average Temperature (`TAVG`)\n",
    "    - Maximum temperature (`TMAX`)\n",
    "    - Minimum temperature (`TMIN`)\n",
    "- Average wind speed (`AWND`)\n",
    "    - Direction of fastest 2-minute wind (`WDF2`)\n",
    "    - Direction of fastest 5-second wind (`WDF5`)\n",
    "    - Fastest 2-minute wind speed (`WSF2`)\n",
    "    - Fastest 5-second wind speed (`WSF5`)\n",
    "- Weather types (`WT**`)\n",
    "#### Observations:\n",
    "For this trial, we downloaded data from Jan 2010-01-01 to 2023-10-27. But if more data is needed, we can always get more.\n",
    "\n",
    "### San Diego Traffic Volume Dataset\n",
    "#### Variables:\n",
    "- Time recorded by date (`date_count`)\n",
    "- Total number of vehicles passed (`total_count`)\n",
    "- Street name (`street_name`)\n",
    "#### Observations:\n",
    "There's around 13700 observations, but we noticed that multiple streets are counted in the same day, while some streets' data is discontinuous.\n",
    "\n",
    "\n",
    "## Difference Between Ideal and Reality\n",
    "After searching and digging, we found out that data excavation is not that easy. For our parking data, it is relatively ****small and sensitive**, which makes it hard to share to public. For Weather data, most of the case you cannot find a weather station **right where you wish it can be**, and you have to use a nearby weather station that is reliable. Data like traffics is also not clean as we expected, because it is nearly impossible to let someone count the number of cars passed by **at the same crossroad**, everyday **continuously for years**."
   ]
  },
  {
   "cell_type": "markdown",
   "metadata": {},
   "source": [
    "# Ethics & Privacy"
   ]
  },
  {
   "cell_type": "markdown",
   "metadata": {},
   "source": [
    "\n",
    "- Informed consent\n",
    "\n",
    "    I think that the data our team collected both the weather data and the traffic accident data from a trusted pubblic website,the official San Diego government website.\n",
    "- Collection bias.\n",
    "\n",
    "    The weather and traffic accident data are all observed events, and the data collected is more focued on the facts that happened instead of subjective observation. The factual focused data could help us reduce collection bias.\n",
    "- Limit PII exposure\n",
    "\n",
    "    Our data, though collected from various person and events, do not contain much personally identifiable information, there are no obvious part in our data that can lead to identification of certain indivisual.\n",
    "- Downstream bias mitigation\n",
    "\n",
    "    The data we are using are collected comprehensively thoughout all the traffic accidents rigardless of their race, gender or religious backgrounds.\n",
    "-  Data security\n",
    "\n",
    "    Since the data are public accessible, our job of keeping our own data safe is to make our repo private and only grant access to relative indivisuals.\n",
    "- Right to be forgotten\n",
    "\n",
    "    We'll open a contact portal to the public so that if anyone feels they wish to have their data removed, they have the freedom to do so.\n",
    "- Data retention plan\n",
    "\n",
    "    We plan on delete the data we've collected after week 10\n",
    "- Missing perspectives\n",
    "\n",
    "    We plan on talking to the TA and possibly the professor about our assumption to collect another point of view.\n",
    "- Dataset bias\n",
    "\n",
    "    The dataset is collected by the San Diego government through factual events e.g. weather, temperature, the number and the type of traffic accidents that happened. In conclusion, I think our dataset is mostly bias free, but we can't rule out the bias created by the observer of the event. e.g police officer's view on an accident,\n",
    "- Honest representation\n",
    "\n",
    "    we will try our best in representing the data without any bias\n",
    "- Privacy in analysis\n",
    "\n",
    "    We will insure that data with PII are not used or displayed unless necessary for the analysis\n",
    "- Auditability\n",
    "\n",
    "    We will insure that any analysis we conclude will be reasonable and reproducible"
   ]
  },
  {
   "cell_type": "markdown",
   "metadata": {},
   "source": [
    "# Team Expectations "
   ]
  },
  {
   "cell_type": "markdown",
   "metadata": {},
   "source": [
    "\n",
    "Read over the [COGS108 Team Policies](https://github.com/COGS108/Projects/blob/master/COGS108_TeamPolicies.md) individually. Then, include your group’s expectations of one another for successful completion of your COGS108 project below. Discuss and agree on what all of your expectations are. Discuss how your team will communicate throughout the quarter and consider how you will communicate respectfully should conflicts arise. By including each member’s name above and by adding their name to the submission, you are indicating that you have read the COGS108 Team Policies, accept your team’s expectations below, and have every intention to fulfill them. These expectations are for your team’s use and benefit — they won’t be graded for their details.\n",
    "\n",
    "* **Team Expectation 1: Communication**\n",
    "  * We will use the designated Discord chat for project-related communication and be responsive to the best of our abilities to ensure that every group member is on the same page.\n",
    "  * We understand that members might be unable to attend certain meetings due to other responsibilities. If that happens, they should notify the rest of the group before the scheduled meeting.\n",
    "  \n",
    "* **Team Expectation 2: Scheduled Meetings**\n",
    "  * All group members are expected to attend the scheduled meeting in the Project Timeline.\n",
    "  * Other meetings not on the timeline can also be scheduled if necessary.\n",
    "* **Team Expectation 3: Team Contribution**\n",
    "  * Although project sections will be divided based on individual strengths, everyone should contribute to some degree.\n",
    "* **Team Expectation 4: Quality Assurance**\n",
    "  * All major project sections should be reviewed before submission.\n",
    "* **Team Expectation 5: Uncooperative Group Member**\n",
    "  * In the case that a group member refuses to complete their assigned task, the rest of the group will notify them of that and give them a time frame to improve and show change.\n",
    "  * If there is no change shown, the professor will have to be notified.\n",
    "* **Team Expectation 6: Accountability**\n",
    "  * All members are expected to equally contribute to the project by completing their assigned responsibilities. \n",
    "  * If any member is facing difficulty completing their portion, they should bring it up to the team to receive help.\n"
   ]
  },
  {
   "cell_type": "markdown",
   "metadata": {},
   "source": [
    "# Project Timeline Proposal"
   ]
  },
  {
   "cell_type": "markdown",
   "metadata": {},
   "source": [
    "\n",
    "\n",
    "| Meeting Date  | Meeting Time| Completed Before Meeting  | Discuss at Meeting |\n",
    "|---|---|---|---|\n",
    "| 10/23  |  7:30 PM | Determine method of communication and weekly meeting time going forward  | Discuss and decide on research topic; research databases for ideal datasets; begin general background research | \n",
    "| 10/30  |  8 PM |  Each member provide one dataset for topic; continue with general background research | Discuss project proposal; draft project proposal; complete responsible section | \n",
    "| 11/6  | 8 PM  | Finalize and submit proposal; receieve feedback and continue to edit proposal accordingly  | Discuss data wrangling and cleaning for dataset |\n",
    "| 11/13  | 8 PM  | Import & Wrangle Data (Traffic.csv, Weather.csv) | Review/Edit wrangling after receiving feedback; Discuss data visualization and analysis |\n",
    "| 11/20  | 8 PM  | Finalize wrangling of both datasets; Begin Analysis (Traffic.csv, Weather.csv), Add visualizations | Discuss/edit Analysis; Add.remove data visualization; Discuss ethics and privacy |\n",
    "| 11/27  | 8 PM  | Complete analysis; Finalize visualizations; Receive feedback | Discuss/edit full project and improvement ideas based off feedback received; Start working on project video demonstration |\n",
    "| 12/13  | Before 11:59 PM | Finalize project; Finalize project video | Turn in Final Project components & Group Project Surveys |"
   ]
  }
 ],
 "metadata": {
  "kernelspec": {
   "display_name": "Python 3 (ipykernel)",
   "language": "python",
   "name": "python3"
  },
  "language_info": {
   "codemirror_mode": {
    "name": "ipython",
    "version": 3
   },
   "file_extension": ".py",
   "mimetype": "text/x-python",
   "name": "python",
   "nbconvert_exporter": "python",
   "pygments_lexer": "ipython3",
   "version": "3.8.18"
  }
 },
 "nbformat": 4,
 "nbformat_minor": 2
}
